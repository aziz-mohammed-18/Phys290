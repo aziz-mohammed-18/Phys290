{
 "cells": [
  {
   "cell_type": "code",
   "execution_count": 1,
   "id": "67fb6046",
   "metadata": {},
   "outputs": [],
   "source": [
    "import numpy as np\n",
    "import scipy\n",
    "from scipy.special import j0"
   ]
  },
  {
   "cell_type": "code",
   "execution_count": 14,
   "id": "a6155337",
   "metadata": {},
   "outputs": [
    {
     "name": "stdout",
     "output_type": "stream",
     "text": [
      "Mass =  31.999698488744198  units of mass. \n",
      " CoM_x =  0.05028189658529199  CoM_y =  0.22990247151721466  CoM_z =  0.0001484282673286602\n"
     ]
    }
   ],
   "source": [
    "def rho(t, u, v):\n",
    "    return 4+t**3+3*u*j0(v)\n",
    "\n",
    "N = int(1e7)\n",
    "\n",
    "x = np.random.uniform(-1, 1, N)\n",
    "y = np.random.uniform(-1, 1, N)\n",
    "z = np.random.uniform(-1, 1, N)\n",
    "\n",
    "mass = 8 * np.mean(rho(x, y, z))\n",
    "\n",
    "I_x = 8 * np.mean(x*rho(x, y, z))\n",
    "\n",
    "I_y = 8 * np.mean(y*rho(x, y, z))\n",
    "\n",
    "I_z = 8 * np.mean(z*rho(x, y, z))\n",
    "\n",
    "print(\"Mass = \", mass, \" units of mass. \\n\",\n",
    "     \"CoM_x = \", I_x/mass, \" CoM_y = \", I_y/mass, \" CoM_z = \", I_z/mass)"
   ]
  }
 ],
 "metadata": {
  "kernelspec": {
   "display_name": "Python 3 (ipykernel)",
   "language": "python",
   "name": "python3"
  },
  "language_info": {
   "codemirror_mode": {
    "name": "ipython",
    "version": 3
   },
   "file_extension": ".py",
   "mimetype": "text/x-python",
   "name": "python",
   "nbconvert_exporter": "python",
   "pygments_lexer": "ipython3",
   "version": "3.9.13"
  }
 },
 "nbformat": 4,
 "nbformat_minor": 5
}
