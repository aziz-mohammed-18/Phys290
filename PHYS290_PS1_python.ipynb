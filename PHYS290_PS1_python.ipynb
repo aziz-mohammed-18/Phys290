{
 "cells": [
  {
   "cell_type": "markdown",
   "id": "a5248de5",
   "metadata": {},
   "source": [
    "Aziz Mohammed\n",
    "Problem Set 1\n",
    "\n",
    "Question 1:\n",
    "(a) I have taken CS 150 and 151 during which I learned basic python and java. I use python to write fairly simple data processing scripts for Molecular Dynamics simulations for research in the chem department\n",
    "(b) I am familiar with matrix algebra, though I wouldn't mind a 30 second refresher - I took linear algebra nearly 2 years ago. I'm familiar and comfortable with probablity density functions from quantum chemistry\n",
    "(c) I have used monte carlo integration for simple problems but I have never used gaussian quadrature or RK4\n",
    "(d) I would be really interested in Molecular dynamics would be asweome to cover, so would density functionals, and density functional theory! I'm hoping to implement some simple versions of DFT calculations or MD simulations for my final project.\n",
    "\n"
   ]
  },
  {
   "cell_type": "code",
   "execution_count": 6,
   "id": "89694fed",
   "metadata": {},
   "outputs": [
    {
     "name": "stdout",
     "output_type": "stream",
     "text": [
      "[0, 1, 1, 2, 3, 5, 8]\n",
      "8\n"
     ]
    }
   ],
   "source": [
    "# Problem 2: Smarter Fibonacci sequence code\n",
    "fibseq = [0, 1, 1] # index 0 will never be used, it is set to 0 for ease of use\n",
    "\n",
    "def fib(num):\n",
    "    for i in range(3, num+1):\n",
    "        fibseq.append(fibseq[i-2] + fibseq[i-1])\n",
    "    return fibseq[num]"
   ]
  },
  {
   "cell_type": "code",
   "execution_count": 19,
   "id": "fe32a44b",
   "metadata": {},
   "outputs": [
    {
     "name": "stdout",
     "output_type": "stream",
     "text": [
      "0.9920457059690396\n",
      "0.9992136096236374\n",
      "0.9999790207508322\n",
      "0.9999997939713817\n"
     ]
    }
   ],
   "source": [
    "# Problem 4\n",
    "import numpy as np\n",
    "\n",
    "\n",
    "def RectangleRule(f, xmin, xmax, N):\n",
    "    x = np.linspace(xmin, xmax, N)\n",
    "    dx = x[1] - x[0]\n",
    "    Integral = 0.\n",
    "    for i in range(N-1):\n",
    "        #print(x[i])\n",
    "        Integral += f(x[i])*dx\n",
    "\n",
    "    return Integral\n",
    "    \n",
    "    \n",
    "def TrapRule(f, xmin, xmax, N):\n",
    "    x = np.linspace(xmin, xmax, N)\n",
    "    dx = x[1]-x[0]\n",
    "    TrapIntegral = 0\n",
    "    for i in range(N-1):\n",
    "        TrapIntegral += 0.5*(f(x[i]) + f(x[i+1]))*dx\n",
    "    return TrapIntegral\n",
    "    \n",
    "    \n",
    "print(RectangleRule(np.sin, 0, np.pi/2, 100))\n",
    "print(RectangleRule(np.sin, 0, np.pi/2, 1000))\n",
    "print(TrapRule(np.sin, 0, np.pi/2, 100))\n",
    "print(TrapRule(np.sin, 0, np.pi/2, 1000))\n",
    "'''\n",
    "given that the value of the integral is 1,\n",
    "using the RectangleRule function for N = 100 and N= 1000\n",
    "results in 0.992 and 0.9992 showing that your accuracy increases \n",
    "by a decimal for a factor of 10 increase in points.\n",
    "Using the TrapRule fuinction with the same values of N = 100 and N = 1000\n",
    "the results are 0.999979 vs 0.999999793 which shows that a tenfold\n",
    "increase in N leads to an extra two decimals of accuracy\n",
    "'''"
   ]
  },
  {
   "cell_type": "code",
   "execution_count": null,
   "id": "94f1b914",
   "metadata": {},
   "outputs": [],
   "source": []
  }
 ],
 "metadata": {
  "kernelspec": {
   "display_name": "Python 3 (ipykernel)",
   "language": "python",
   "name": "python3"
  },
  "language_info": {
   "codemirror_mode": {
    "name": "ipython",
    "version": 3
   },
   "file_extension": ".py",
   "mimetype": "text/x-python",
   "name": "python",
   "nbconvert_exporter": "python",
   "pygments_lexer": "ipython3",
   "version": "3.9.13"
  }
 },
 "nbformat": 4,
 "nbformat_minor": 5
}
